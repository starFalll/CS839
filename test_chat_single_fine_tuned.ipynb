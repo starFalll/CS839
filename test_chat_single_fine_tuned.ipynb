{
 "cells": [
  {
   "cell_type": "code",
   "execution_count": 1,
   "metadata": {},
   "outputs": [
    {
     "name": "stderr",
     "output_type": "stream",
     "text": [
      "/usr/lib/python3/dist-packages/scipy/__init__.py:146: UserWarning: A NumPy version >=1.17.3 and <1.25.0 is required for this version of SciPy (detected version 1.26.4\n",
      "  warnings.warn(f\"A NumPy version >={np_minversion} and <{np_maxversion}\"\n"
     ]
    },
    {
     "data": {
      "application/vnd.jupyter.widget-view+json": {
       "model_id": "959f9e3bf83c4d4b9986c2672e851e88",
       "version_major": 2,
       "version_minor": 0
      },
      "text/plain": [
       "Loading checkpoint shards:   0%|          | 0/2 [00:00<?, ?it/s]"
      ]
     },
     "metadata": {},
     "output_type": "display_data"
    },
    {
     "data": {
      "application/vnd.jupyter.widget-view+json": {
       "model_id": "a9ac476b31574923932b6abef96a5cab",
       "version_major": 2,
       "version_minor": 0
      },
      "text/plain": [
       "adapter_config.json:   0%|          | 0.00/654 [00:00<?, ?B/s]"
      ]
     },
     "metadata": {},
     "output_type": "display_data"
    },
    {
     "data": {
      "application/vnd.jupyter.widget-view+json": {
       "model_id": "f6d0f926fec644e1830573b43f271550",
       "version_major": 2,
       "version_minor": 0
      },
      "text/plain": [
       "adapter_model.safetensors:   0%|          | 0.00/16.8M [00:00<?, ?B/s]"
      ]
     },
     "metadata": {},
     "output_type": "display_data"
    },
    {
     "name": "stderr",
     "output_type": "stream",
     "text": [
      " 20%|██        | 1/5 [02:47<11:11, 167.77s/it]"
     ]
    },
    {
     "name": "stdout",
     "output_type": "stream",
     "text": [
      "146 146 0 0\n"
     ]
    },
    {
     "name": "stderr",
     "output_type": "stream",
     "text": [
      " 40%|████      | 2/5 [05:19<07:54, 158.14s/it]"
     ]
    },
    {
     "name": "stdout",
     "output_type": "stream",
     "text": [
      "143 143 0 0\n"
     ]
    },
    {
     "name": "stderr",
     "output_type": "stream",
     "text": [
      " 60%|██████    | 3/5 [08:09<05:27, 163.63s/it]"
     ]
    },
    {
     "name": "stdout",
     "output_type": "stream",
     "text": [
      "164 164 0 0\n"
     ]
    },
    {
     "name": "stderr",
     "output_type": "stream",
     "text": [
      " 80%|████████  | 4/5 [10:43<02:39, 160.00s/it]"
     ]
    },
    {
     "name": "stdout",
     "output_type": "stream",
     "text": [
      "151 151 0 0\n"
     ]
    },
    {
     "name": "stderr",
     "output_type": "stream",
     "text": [
      "100%|██████████| 5/5 [13:19<00:00, 159.94s/it]"
     ]
    },
    {
     "name": "stdout",
     "output_type": "stream",
     "text": [
      "147 147 0 0\n",
      "751 751\n"
     ]
    },
    {
     "name": "stderr",
     "output_type": "stream",
     "text": [
      "\n"
     ]
    },
    {
     "name": "stdout",
     "output_type": "stream",
     "text": [
      "Results are successfully written into results/single_overall_7B_adapter.json and results/single_report_7B_adapter.csv\n"
     ]
    }
   ],
   "source": [
    "import os\n",
    "import json\n",
    "from tqdm import tqdm\n",
    "import numpy as np\n",
    "import pandas as pd\n",
    "from npy_postprocess import canonical_header\n",
    "from f1_llama import report_gen\n",
    "from transformers import AutoModelForCausalLM, AutoTokenizer, pipeline\n",
    "\n",
    "model_id = \"meta-llama/Llama-2-7b-chat-hf\"\n",
    "model_size = \"7B_adapter\"\n",
    "\n",
    "# Custom parameters\n",
    "column_type = \"single\"                             # single/multi, like for single column type, We only read tables with only one column\n",
    "directory_indexs = [\"K0\", \"K1\", \"K2\", \"K3\", \"K4\"] # directory used for iterate\n",
    "file_num = 100                                    # for each directory, read file_num of column_type files\n",
    "rows_num = 20                                     # for each table, how many rows we need read for prompt\n",
    "max_new_tokens = 4096                             # max token for LLM\n",
    "# ignore_mismatch = False                           # if throw out mismatch\n",
    "gpu_device = \"auto\"                               # 8B needs specify the index of GPU like 1 or 2, 70B use \"auto\"\n",
    "enable_adapter = True\n",
    "adapter_id = \"sadpineapple/llama2-7b-chat-adapter\"\n",
    "\n",
    "model = AutoModelForCausalLM.from_pretrained(model_id,\n",
    "                                             device_map=gpu_device,\n",
    "                                             trust_remote_code=False,\n",
    "                                             revision=\"main\")\n",
    "if enable_adapter:\n",
    "    model.load_adapter(adapter_id)\n",
    "\n",
    "tokenizer = AutoTokenizer.from_pretrained(model_id, use_fast=True)\n",
    "\n",
    "template_context = \"\"\"\n",
    "Column Names are limited to the following:\n",
    "name, description, team, type, age, location, year, city, rank, status, state, category,\n",
    "weight, code, club, artist, result, position, country, notes, class, company, album, symbol,\n",
    "address, duration, format, county, day, gender, industry, language, sex, product, jockey,\n",
    "region, area, service, teamName, order, isbn, fileSize, grades, publisher, plays, origin,\n",
    "elevation, affiliation, component, owner, genre,  manufacturer, brand, family, credit, depth,\n",
    "classification, collection, species, command, nationality, currency, range, affiliate,\n",
    "birthDate, ranking, capacity, birthPlace, person, creator, operator, religion, education,\n",
    "requirement, director, sales, continent, organisation\n",
    "Do not use any column names aside from these.\n",
    "\"\"\"\n",
    "\n",
    "single_context = template_context + \"\"\"\n",
    "Given the following column values in a relational table:\"\"\"\n",
    "\n",
    "sysprompt = {\"role\" : \"system\", \"content\" : \"\"\"\n",
    "    Column Names are limited to the following:\n",
    "    name, description, team, type, age, location, year, city, rank, status, state, category,\n",
    "    weight, code, club, artist, result, position, country, notes, class, company, album, symbol,\n",
    "    address, duration, format, county, day, gender, industry, language, sex, product, jockey,\n",
    "    region, area, service, teamName, order, isbn, fileSize, grades, publisher, plays, origin,\n",
    "    elevation, affiliation, component, owner, genre,  manufacturer, brand, family, credit, depth,\n",
    "    classification, collection, species, command, nationality, currency, range, affiliate,\n",
    "    birthDate, ranking, capacity, birthPlace, person, creator, operator, religion, education,\n",
    "    requirement, director, sales, continent, organisation\n",
    "    Do not use any column names aside from these.\n",
    "    \n",
    "    No pre-amble. Answer is in the following format: answer\n",
    "    \"\"\"}\n",
    "\n",
    "trues = []\n",
    "preds = []\n",
    "\n",
    "true_path = \"npy/trues/\"\n",
    "pred_path = \"npy/preds/\" \n",
    "if not os.path.exists(true_path):\n",
    "    os.makedirs(true_path)\n",
    "if not os.path.exists(pred_path):\n",
    "    os.makedirs(pred_path)\n",
    "\n",
    "for tabledir in tqdm(directory_indexs):\n",
    "    filenames = os.listdir(tabledir)\n",
    "    real_cols = []\n",
    "    pred_cols = []\n",
    "    mismatch = 0\n",
    "    error_num = 0\n",
    "    #file_cnt = 0\n",
    "    for filename in filenames[0:file_num]: #moved file_num here\n",
    "        fullpath = tabledir + '/' + filename\n",
    "        with open(fullpath) as f:\n",
    "            pipe = pipeline(\n",
    "                \"text-generation\",\n",
    "                model=model,\n",
    "                tokenizer=tokenizer,\n",
    "                max_new_tokens=max_new_tokens,\n",
    "                pad_token_id=tokenizer.eos_token_id,\n",
    "                do_sample=True,\n",
    "                temperature=0.6,\n",
    "                top_p=0.9,\n",
    "                top_k=40,\n",
    "                repetition_penalty=1.1\n",
    "            )\n",
    "\n",
    "            linelist = f.readlines()\n",
    "            colnames = linelist[0][:-1].split(',')\n",
    "            real_cols += colnames\n",
    "            \n",
    "            \n",
    "            df = pd.read_csv(fullpath).astype(str)\n",
    "            for col in df.columns:\n",
    "                content = f\"{single_context} {', '.join(df[col][0:rows_num])}\\nGuess the column name\"\n",
    "                messages = [sysprompt, {\"role\": \"user\", \"content\": content},]\n",
    "                cpred = pipe(messages)[0]['generated_text'][-1]['content'].replace('\\n', ' ').split('.')[0].split()[-1]\n",
    "                pred_cols.append(canonical_header(cpred))\n",
    "\n",
    "\n",
    "    print(len(pred_cols), len(real_cols), mismatch, error_num)\n",
    "    with open(f'npy/trues/{column_type}_{tabledir}_true.npy', 'wb') as f:\n",
    "        np.save(f, np.array(real_cols, dtype='<U14'))\n",
    "    with open(f'npy/preds/{column_type}_{tabledir}_pred.npy', 'wb') as f:\n",
    "        np.save(f, np.array(pred_cols, dtype='<U14'))\n",
    "    trues += real_cols\n",
    "    preds += pred_cols\n",
    "                \n",
    "\n",
    "results_path = \"results/\" \n",
    "if not os.path.exists(results_path):\n",
    "    os.makedirs(results_path)\n",
    "print(len(preds), len(trues))\n",
    "overall, report = report_gen(preds,trues)\n",
    "with open(f\"results/{column_type}_overall_{model_size}.json\",\"w\") as f:\n",
    "    json.dump(overall,f)\n",
    "report.to_csv(f'results/{column_type}_report_{model_size}.csv', index=False)\n",
    "print(f\"Results are successfully written into results/{column_type}_overall_{model_size}.json and results/{column_type}_report_{model_size}.csv\")\n"
   ]
  }
 ],
 "metadata": {
  "kernelspec": {
   "display_name": "Python (llama)",
   "language": "python",
   "name": "llama"
  },
  "language_info": {
   "codemirror_mode": {
    "name": "ipython",
    "version": 3
   },
   "file_extension": ".py",
   "mimetype": "text/x-python",
   "name": "python",
   "nbconvert_exporter": "python",
   "pygments_lexer": "ipython3",
   "version": "3.10.12"
  }
 },
 "nbformat": 4,
 "nbformat_minor": 2
}
